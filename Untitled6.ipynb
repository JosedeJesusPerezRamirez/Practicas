{
  "nbformat": 4,
  "nbformat_minor": 0,
  "metadata": {
    "colab": {
      "name": "Untitled6.ipynb",
      "provenance": [],
      "authorship_tag": "ABX9TyPA9tLm7hWlq0z/5QEmRVGn",
      "include_colab_link": true
    },
    "kernelspec": {
      "name": "python3",
      "display_name": "Python 3"
    },
    "language_info": {
      "name": "python"
    }
  },
  "cells": [
    {
      "cell_type": "markdown",
      "metadata": {
        "id": "view-in-github",
        "colab_type": "text"
      },
      "source": [
        "<a href=\"https://colab.research.google.com/github/JosedeJesusPerezRamirez/Practicas/blob/main/Untitled6.ipynb\" target=\"_parent\"><img src=\"https://colab.research.google.com/assets/colab-badge.svg\" alt=\"Open In Colab\"/></a>"
      ]
    },
    {
      "cell_type": "markdown",
      "source": [
        "Elaborado por Jose de Jesus Perez Ramirez\n",
        "\n",
        "25/08/2022"
      ],
      "metadata": {
        "id": "vvxzitcJNx_o"
      }
    },
    {
      "cell_type": "code",
      "source": [
        "text=\"HISTORIA: Disciplina que estudia y expone, de acuerdo con determinados principios y métodos, los acontecimientos y hechos que pertenecen al tiempo pasado y que constituyen el desarrollo de la humanidad desde sus orígenes hasta el momento presente.\"\n",
        "\n",
        "substring=input(' teclee una letra ')\n",
        "\n",
        "total_palabra =text.count(substring)\n",
        "\n",
        "print(\"La palabra se repite \"+ str(total_palabra))"
      ],
      "metadata": {
        "colab": {
          "base_uri": "https://localhost:8080/"
        },
        "id": "FrMY2RdAWPbb",
        "outputId": "8ba785e8-db73-461f-9782-ceb488610a24"
      },
      "execution_count": 10,
      "outputs": [
        {
          "output_type": "stream",
          "name": "stdout",
          "text": [
            " teclee una letra y\n",
            "La palabra se repite 5\n"
          ]
        }
      ]
    }
  ]
}