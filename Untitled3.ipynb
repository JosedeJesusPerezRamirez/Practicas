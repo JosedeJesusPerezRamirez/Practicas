{
  "nbformat": 4,
  "nbformat_minor": 0,
  "metadata": {
    "colab": {
      "name": "Untitled3.ipynb",
      "provenance": [],
      "collapsed_sections": [],
      "authorship_tag": "ABX9TyOIWoeOBrtL0S7DZsncXm5d",
      "include_colab_link": true
    },
    "kernelspec": {
      "name": "python3",
      "display_name": "Python 3"
    },
    "language_info": {
      "name": "python"
    }
  },
  "cells": [
    {
      "cell_type": "markdown",
      "metadata": {
        "id": "view-in-github",
        "colab_type": "text"
      },
      "source": [
        "<a href=\"https://colab.research.google.com/github/JosedeJesusPerezRamirez/Practicas/blob/main/Untitled3.ipynb\" target=\"_parent\"><img src=\"https://colab.research.google.com/assets/colab-badge.svg\" alt=\"Open In Colab\"/></a>"
      ]
    },
    {
      "cell_type": "markdown",
      "source": [
        "*Elaborado por Jose de Jesus Perez Ramirez 23/08/2022*\n"
      ],
      "metadata": {
        "id": "2EkWmdsRJS8y"
      }
    },
    {
      "cell_type": "code",
      "source": [
        "i=1\n",
        "m = int (input (\"Escribe la tabla\"))\n",
        "while (i!=11):\n",
        "  print (m,\"1X\",i,\"=\",m*1)\n",
        "  i=i+1"
      ],
      "metadata": {
        "colab": {
          "base_uri": "https://localhost:8080/"
        },
        "id": "1-24EiLZLfyR",
        "outputId": "8c275039-a314-45fb-f2a8-036c1d842167"
      },
      "execution_count": 5,
      "outputs": [
        {
          "output_type": "stream",
          "name": "stdout",
          "text": [
            "Escribe la tabla1\n",
            "1 1X 1 = 1\n",
            "1 1X 2 = 1\n",
            "1 1X 3 = 1\n",
            "1 1X 4 = 1\n",
            "1 1X 5 = 1\n",
            "1 1X 6 = 1\n",
            "1 1X 7 = 1\n",
            "1 1X 8 = 1\n",
            "1 1X 9 = 1\n",
            "1 1X 10 = 1\n"
          ]
        }
      ]
    }
  ]
}