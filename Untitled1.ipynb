{
  "nbformat": 4,
  "nbformat_minor": 0,
  "metadata": {
    "colab": {
      "name": "Untitled1.ipynb",
      "provenance": [],
      "authorship_tag": "ABX9TyM6PJYxEfi+RjNmcvrPbV1e",
      "include_colab_link": true
    },
    "kernelspec": {
      "name": "python3",
      "display_name": "Python 3"
    },
    "language_info": {
      "name": "python"
    }
  },
  "cells": [
    {
      "cell_type": "markdown",
      "metadata": {
        "id": "view-in-github",
        "colab_type": "text"
      },
      "source": [
        "<a href=\"https://colab.research.google.com/github/JosedeJesusPerezRamirez/Practicas/blob/main/Untitled1.ipynb\" target=\"_parent\"><img src=\"https://colab.research.google.com/assets/colab-badge.svg\" alt=\"Open In Colab\"/></a>"
      ]
    },
    {
      "cell_type": "markdown",
      "source": [
        "*Primer programa Hola Mundo.*\n",
        "\n",
        "*Solicitamos el nombre del usuario y lo saludamos.*\n",
        "\n",
        "*Elaborado por Jose de Jesus Perez Ramirez 23/08/2022*"
      ],
      "metadata": {
        "id": "OZkgxcSf-_sN"
      }
    },
    {
      "cell_type": "code",
      "source": [
        "nombreAlumno=input(\"Escribe tu nombre\")\n",
        "print(\"Hola \", nombreAlumno , \" Como estas\")"
      ],
      "metadata": {
        "colab": {
          "base_uri": "https://localhost:8080/"
        },
        "id": "M-UULFkt_uQw",
        "outputId": "4ba8ba02-dc3b-4d6b-e313-c74d6fbc8138"
      },
      "execution_count": 3,
      "outputs": [
        {
          "output_type": "stream",
          "name": "stdout",
          "text": [
            "Escribe tu nombreJesus\n",
            "Hola  Jesus  Como estas\n"
          ]
        }
      ]
    }
  ]
}