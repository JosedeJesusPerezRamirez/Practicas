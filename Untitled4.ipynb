{
  "nbformat": 4,
  "nbformat_minor": 0,
  "metadata": {
    "colab": {
      "name": "Untitled4.ipynb",
      "provenance": [],
      "collapsed_sections": [],
      "authorship_tag": "ABX9TyMNMW1Wibrstg5udgNzW4Sz",
      "include_colab_link": true
    },
    "kernelspec": {
      "name": "python3",
      "display_name": "Python 3"
    },
    "language_info": {
      "name": "python"
    }
  },
  "cells": [
    {
      "cell_type": "markdown",
      "metadata": {
        "id": "view-in-github",
        "colab_type": "text"
      },
      "source": [
        "<a href=\"https://colab.research.google.com/github/JosedeJesusPerezRamirez/Practicas/blob/main/Untitled4.ipynb\" target=\"_parent\"><img src=\"https://colab.research.google.com/assets/colab-badge.svg\" alt=\"Open In Colab\"/></a>"
      ]
    },
    {
      "cell_type": "markdown",
      "source": [
        "Uso de la función \"def\"\n",
        "\n",
        "*Elaborado por Jose de Jesus Perez Ramirez*\n",
        "\n",
        "*23/08/2022*"
      ],
      "metadata": {
        "id": "z7DiotxcNhzM"
      }
    },
    {
      "cell_type": "code",
      "source": [
        "def holaMundo():\n",
        "  nombre= input(\"Escribe tu nombre:  \")\n",
        "  print(\"Hola \", nombre, \" Como estas :-)\")\n",
        "\n",
        "holaMundo()\n"
      ],
      "metadata": {
        "colab": {
          "base_uri": "https://localhost:8080/"
        },
        "id": "zO7YkllINrJ2",
        "outputId": "75c91a4a-7c9b-4bcb-c7cc-235ce5d3de49"
      },
      "execution_count": 2,
      "outputs": [
        {
          "output_type": "stream",
          "name": "stdout",
          "text": [
            "Escribe tu nombre:  Jesus\n",
            "Hola  Jesus  Como estas :-)\n"
          ]
        }
      ]
    },
    {
      "cell_type": "markdown",
      "source": [
        "**Mismo ejecicio pero con paso de parametros**"
      ],
      "metadata": {
        "id": "3VSWqfNsPiMX"
      }
    },
    {
      "cell_type": "code",
      "source": [
        "def saludo(nombre):\n",
        "  print(\"Hola \", nombre, \" Como estas :-)\")\n",
        "  \n",
        "\n",
        "saludo(\"Jesus\")\n",
        "nombre= input(\"Escribe tu nombre  \")\n",
        "saludo(nombre)"
      ],
      "metadata": {
        "colab": {
          "base_uri": "https://localhost:8080/"
        },
        "id": "LBZBRMHPPmKM",
        "outputId": "ce0badd2-1b32-4561-ccd3-9d0e1ec1a8db"
      },
      "execution_count": 4,
      "outputs": [
        {
          "output_type": "stream",
          "name": "stdout",
          "text": [
            "Hola  Jesus  Como estas :-)\n",
            "Escribe tu nombre  Jose\n",
            "Hola  Jose  Como estas :-)\n"
          ]
        }
      ]
    }
  ]
}