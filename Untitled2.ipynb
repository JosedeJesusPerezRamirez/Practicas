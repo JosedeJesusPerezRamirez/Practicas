{
  "nbformat": 4,
  "nbformat_minor": 0,
  "metadata": {
    "colab": {
      "name": "Untitled2.ipynb",
      "provenance": [],
      "collapsed_sections": [],
      "authorship_tag": "ABX9TyPha8eU7QyiYjmLFJf0P/Ud",
      "include_colab_link": true
    },
    "kernelspec": {
      "name": "python3",
      "display_name": "Python 3"
    },
    "language_info": {
      "name": "python"
    }
  },
  "cells": [
    {
      "cell_type": "markdown",
      "metadata": {
        "id": "view-in-github",
        "colab_type": "text"
      },
      "source": [
        "<a href=\"https://colab.research.google.com/github/JosedeJesusPerezRamirez/Practicas/blob/main/Untitled2.ipynb\" target=\"_parent\"><img src=\"https://colab.research.google.com/assets/colab-badge.svg\" alt=\"Open In Colab\"/></a>"
      ]
    },
    {
      "cell_type": "markdown",
      "source": [
        "*Solicitamos un numero y se imprimira la tabla de ese numero*\n",
        "\n",
        "*Elaborado por Jose de Jesus Perez Ramirez 23/08/2022*"
      ],
      "metadata": {
        "id": "oIJioNVOE2qO"
      }
    },
    {
      "cell_type": "code",
      "source": [
        "i=int (input(\"Escribe un numero del 1 al 10\"))\n",
        "\n",
        "for n in range (1, 11):\n",
        "  print ( n, \"1X \",i,\"=\", n*i)"
      ],
      "metadata": {
        "colab": {
          "base_uri": "https://localhost:8080/"
        },
        "id": "jUD6lj1tFS0R",
        "outputId": "1c710284-ab33-4eef-dd0d-68dc93db03fa"
      },
      "execution_count": 6,
      "outputs": [
        {
          "output_type": "stream",
          "name": "stdout",
          "text": [
            "Escribe un numero del 1 al 109\n",
            "1 1X  9 = 9\n",
            "2 1X  9 = 18\n",
            "3 1X  9 = 27\n",
            "4 1X  9 = 36\n",
            "5 1X  9 = 45\n",
            "6 1X  9 = 54\n",
            "7 1X  9 = 63\n",
            "8 1X  9 = 72\n",
            "9 1X  9 = 81\n",
            "10 1X  9 = 90\n"
          ]
        }
      ]
    }
  ]
}