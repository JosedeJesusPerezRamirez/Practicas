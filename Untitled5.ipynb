{
  "nbformat": 4,
  "nbformat_minor": 0,
  "metadata": {
    "colab": {
      "name": "Untitled5.ipynb",
      "provenance": [],
      "collapsed_sections": [],
      "authorship_tag": "ABX9TyOWK9+ldHkoavG0rUqXU0Ou",
      "include_colab_link": true
    },
    "kernelspec": {
      "name": "python3",
      "display_name": "Python 3"
    },
    "language_info": {
      "name": "python"
    }
  },
  "cells": [
    {
      "cell_type": "markdown",
      "metadata": {
        "id": "view-in-github",
        "colab_type": "text"
      },
      "source": [
        "<a href=\"https://colab.research.google.com/github/JosedeJesusPerezRamirez/Practicas/blob/main/Untitled5.ipynb\" target=\"_parent\"><img src=\"https://colab.research.google.com/assets/colab-badge.svg\" alt=\"Open In Colab\"/></a>"
      ]
    },
    {
      "cell_type": "markdown",
      "source": [
        "**Este programa contendra un menu de figuras geometricas donde al seleccionar nos dira el como obtener el area**\n",
        "\n",
        "*Elaborado por Jose de Jesus Perez Ramirez*\n",
        "\n",
        "*23/08/2022*"
      ],
      "metadata": {
        "id": "hyzrLoqTxyZB"
      }
    },
    {
      "cell_type": "code",
      "source": [
        "opcion = '0'\n",
        "while not(opcion=='5'):\n",
        "    print('   ')\n",
        "    print('   ')\n",
        "    print('***************************************************')\n",
        "    print(' MENU PARA OBTENER FORMULAS DE FIGURAS GEOMETRICAS')\n",
        "    print('***************************************************')\n",
        "    print(' 1. RECTANGULO')\n",
        "    print(' 2. TRIANGULO')\n",
        "    print(' 3. TRAPECIO')\n",
        "    print(' 4. CIRCULO')\n",
        "    print(' 5. Salir')\n",
        "\n",
        "    opcion=input(' seleccione una opcion:  ')\n",
        "    \n",
        "    if (opcion=='1'):\n",
        "        print(' La formula para obtener el area del rectangulo es multiplicando el largo por el ancho.')\n",
        "        \n",
        "    elif (opcion=='2'):\n",
        "        print(' La formula para obtener el area del triangulo es el producto de la base por la altura dividido por dos')\n",
        "        \n",
        "    elif (opcion=='3'):\n",
        "        print(' La formula para obtener el area del trapecio es  A=(a+b)/2 x h. ')\n",
        "        \n",
        "    elif (opcion=='4'):\n",
        "        print(' La formula para obtener el area del circulo es A = πr 2  ')\n",
        "                        \n",
        "    elif (opcion=='5'):\n",
        "        print(' **** Saliendo del menu  ****')\n",
        "        \n",
        "    else:\n",
        "        print('No existe la opcion')"
      ],
      "metadata": {
        "colab": {
          "base_uri": "https://localhost:8080/"
        },
        "id": "GgWYsuXc8FzE",
        "outputId": "caf5d31e-8144-4f72-b5bb-06643f7b7343"
      },
      "execution_count": 32,
      "outputs": [
        {
          "output_type": "stream",
          "name": "stdout",
          "text": [
            "   \n",
            "   \n",
            "***************************************************\n",
            " MENU PARA OBTENER FORMULAS DE FIGURAS GEOMETRICAS\n",
            "***************************************************\n",
            " 1. RECTANGULO\n",
            " 2. TRIANGULO\n",
            " 3. TRAPECIO\n",
            " 4. CIRCULO\n",
            " 5. Salir\n",
            " seleccione una opcion:  1\n",
            " La formula para obtener el area del rectangulo es multiplicando el largo por el ancho.\n",
            "   \n",
            "   \n",
            "***************************************************\n",
            " MENU PARA OBTENER FORMULAS DE FIGURAS GEOMETRICAS\n",
            "***************************************************\n",
            " 1. RECTANGULO\n",
            " 2. TRIANGULO\n",
            " 3. TRAPECIO\n",
            " 4. CIRCULO\n",
            " 5. Salir\n",
            " seleccione una opcion:  2\n",
            " La formula para obtener el area del triangulo es el producto de la base por la altura dividido por dos\n",
            "   \n",
            "   \n",
            "***************************************************\n",
            " MENU PARA OBTENER FORMULAS DE FIGURAS GEOMETRICAS\n",
            "***************************************************\n",
            " 1. RECTANGULO\n",
            " 2. TRIANGULO\n",
            " 3. TRAPECIO\n",
            " 4. CIRCULO\n",
            " 5. Salir\n",
            " seleccione una opcion:  3\n",
            " La formula para obtener el area del trapecio es  A=(a+b)/2 x h. \n",
            "   \n",
            "   \n",
            "***************************************************\n",
            " MENU PARA OBTENER FORMULAS DE FIGURAS GEOMETRICAS\n",
            "***************************************************\n",
            " 1. RECTANGULO\n",
            " 2. TRIANGULO\n",
            " 3. TRAPECIO\n",
            " 4. CIRCULO\n",
            " 5. Salir\n",
            " seleccione una opcion:  4\n",
            " La formula para obtener el area del circulo es A = πr 2  \n",
            "   \n",
            "   \n",
            "***************************************************\n",
            " MENU PARA OBTENER FORMULAS DE FIGURAS GEOMETRICAS\n",
            "***************************************************\n",
            " 1. RECTANGULO\n",
            " 2. TRIANGULO\n",
            " 3. TRAPECIO\n",
            " 4. CIRCULO\n",
            " 5. Salir\n",
            " seleccione una opcion:  6\n",
            "No existe la opcion\n",
            "   \n",
            "   \n",
            "***************************************************\n",
            " MENU PARA OBTENER FORMULAS DE FIGURAS GEOMETRICAS\n",
            "***************************************************\n",
            " 1. RECTANGULO\n",
            " 2. TRIANGULO\n",
            " 3. TRAPECIO\n",
            " 4. CIRCULO\n",
            " 5. Salir\n",
            " seleccione una opcion:  5\n",
            " **** Saliendo del menu  ****\n"
          ]
        }
      ]
    }
  ]
}